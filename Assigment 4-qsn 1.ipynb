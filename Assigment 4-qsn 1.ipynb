{
 "cells": [
  {
   "cell_type": "raw",
   "id": "7b792b9d",
   "metadata": {},
   "source": [
    "##Write a Python program to create a lambda function that adds 25 to a given number passed in as an argument.\n",
    "\n",
    "\n",
    "\n",
    "sample input: 10\n",
    "\n",
    "sample output: 35\n",
    "\n"
   ]
  },
  {
   "cell_type": "code",
   "execution_count": 5,
   "id": "42f61ffd",
   "metadata": {},
   "outputs": [
    {
     "name": "stdout",
     "output_type": "stream",
     "text": [
      "Enter the number :15\n",
      "40\n"
     ]
    }
   ],
   "source": [
    "nums=int(input(\"Enter the number :\"))\n",
    "sum1=lambda x:x+25\n",
    "print(sum1(nums))"
   ]
  },
  {
   "cell_type": "code",
   "execution_count": null,
   "id": "419154f9",
   "metadata": {},
   "outputs": [],
   "source": []
  }
 ],
 "metadata": {
  "kernelspec": {
   "display_name": "Python 3 (ipykernel)",
   "language": "python",
   "name": "python3"
  },
  "language_info": {
   "codemirror_mode": {
    "name": "ipython",
    "version": 3
   },
   "file_extension": ".py",
   "mimetype": "text/x-python",
   "name": "python",
   "nbconvert_exporter": "python",
   "pygments_lexer": "ipython3",
   "version": "3.10.9"
  }
 },
 "nbformat": 4,
 "nbformat_minor": 5
}
